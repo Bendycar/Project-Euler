{
 "cells": [
  {
   "cell_type": "code",
   "execution_count": 10,
   "id": "21fd04e4-af75-4cf3-966a-012f79d5c51e",
   "metadata": {},
   "outputs": [
    {
     "name": "stdout",
     "output_type": "stream",
     "text": [
      "[0, 1, 1, 2, 3, 5, 8, 13, 21, 34]\n"
     ]
    }
   ],
   "source": [
    "def fibonacci(x):\n",
    "        sequence = []\n",
    "        a,b = 0,1\n",
    "        for num in range(0,x):\n",
    "            sequence.append(a)\n",
    "            a,b = b,a+b\n",
    "        return sequence"
   ]
  },
  {
   "cell_type": "code",
   "execution_count": 9,
   "id": "a5d02764-8fe8-4384-852f-7cf735ae841b",
   "metadata": {},
   "outputs": [
    {
     "name": "stdout",
     "output_type": "stream",
     "text": [
      "44\n"
     ]
    }
   ],
   "source": [
    "def fib_sum(x):\n",
    "    sequence = fibonacci(x)\n",
    "    even_terms = (term for term in sequence if term % 2 == 0)\n",
    "    return sum(even_terms)\n",
    "x = 10 # Change this to set desired range\n",
    "sum_result = fib_sum(x)\n",
    "print(sum_result)"
   ]
  },
  {
   "cell_type": "code",
   "execution_count": null,
   "id": "964c63f5-17cc-4177-8595-db78efaa09b6",
   "metadata": {},
   "outputs": [],
   "source": []
  }
 ],
 "metadata": {
  "kernelspec": {
   "display_name": "Python 3 (ipykernel)",
   "language": "python",
   "name": "python3"
  },
  "language_info": {
   "codemirror_mode": {
    "name": "ipython",
    "version": 3
   },
   "file_extension": ".py",
   "mimetype": "text/x-python",
   "name": "python",
   "nbconvert_exporter": "python",
   "pygments_lexer": "ipython3",
   "version": "3.11.6"
  }
 },
 "nbformat": 4,
 "nbformat_minor": 5
}
