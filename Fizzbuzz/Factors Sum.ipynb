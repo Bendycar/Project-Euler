{
 "cells": [
  {
   "cell_type": "code",
   "execution_count": 16,
   "id": "70befda7-3cbf-43dc-8270-ea58ee5defa0",
   "metadata": {},
   "outputs": [],
   "source": [
    "def sum_factors(x):\n",
    "    list = []\n",
    "    for num in range(x):\n",
    "        if num % 3 == 0 or num % 5 == 0:\n",
    "            list.append(num)\n",
    "    list_sum = sum(list)\n",
    "    print(list_sum)"
   ]
  },
  {
   "cell_type": "code",
   "execution_count": 19,
   "id": "6cf07879-a86c-43e2-8943-0b4480091eb8",
   "metadata": {},
   "outputs": [
    {
     "name": "stdout",
     "output_type": "stream",
     "text": [
      "543\n"
     ]
    }
   ],
   "source": [
    "sum_factors(50)"
   ]
  },
  {
   "cell_type": "code",
   "execution_count": null,
   "id": "1d08ee8a-da7f-4065-9a75-64d46bdd597b",
   "metadata": {},
   "outputs": [],
   "source": []
  }
 ],
 "metadata": {
  "kernelspec": {
   "display_name": "Python 3 (ipykernel)",
   "language": "python",
   "name": "python3"
  },
  "language_info": {
   "codemirror_mode": {
    "name": "ipython",
    "version": 3
   },
   "file_extension": ".py",
   "mimetype": "text/x-python",
   "name": "python",
   "nbconvert_exporter": "python",
   "pygments_lexer": "ipython3",
   "version": "3.11.4"
  }
 },
 "nbformat": 4,
 "nbformat_minor": 5
}
