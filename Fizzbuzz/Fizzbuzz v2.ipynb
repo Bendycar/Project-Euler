{
 "cells": [
  {
   "cell_type": "code",
   "execution_count": 19,
   "id": "a9dafb43-fe61-4552-ba70-ccd774f08c97",
   "metadata": {},
   "outputs": [],
   "source": [
    "def fizzbuzz(x):\n",
    "    for num in range(1,x):\n",
    "        if num % 3 == 0 and num % 5 == 0:\n",
    "            print(\"Fizzbuzz\")\n",
    "        elif num % 3 == 0:\n",
    "            print(\"Fizz\")\n",
    "        elif num % 5 == 0:\n",
    "            print(\"Buzz\")\n",
    "        else: print(num)"
   ]
  },
  {
   "cell_type": "code",
   "execution_count": 20,
   "id": "ff29cda8-8d51-456d-bfac-48709039e1b7",
   "metadata": {},
   "outputs": [
    {
     "name": "stdout",
     "output_type": "stream",
     "text": [
      "1\n",
      "2\n",
      "Fizz\n",
      "4\n",
      "Buzz\n",
      "Fizz\n",
      "7\n",
      "8\n",
      "Fizz\n",
      "Buzz\n",
      "11\n",
      "Fizz\n",
      "13\n",
      "14\n",
      "Fizzbuzz\n",
      "16\n",
      "17\n",
      "Fizz\n",
      "19\n",
      "Buzz\n",
      "Fizz\n",
      "22\n",
      "23\n",
      "Fizz\n",
      "Buzz\n",
      "26\n",
      "Fizz\n",
      "28\n",
      "29\n",
      "Fizzbuzz\n"
     ]
    }
   ],
   "source": [
    "fizzbuzz(31)"
   ]
  },
  {
   "cell_type": "code",
   "execution_count": null,
   "id": "21fbef19-5f56-4558-846e-5dbb6ebbb59e",
   "metadata": {},
   "outputs": [],
   "source": []
  }
 ],
 "metadata": {
  "kernelspec": {
   "display_name": "Python 3 (ipykernel)",
   "language": "python",
   "name": "python3"
  },
  "language_info": {
   "codemirror_mode": {
    "name": "ipython",
    "version": 3
   },
   "file_extension": ".py",
   "mimetype": "text/x-python",
   "name": "python",
   "nbconvert_exporter": "python",
   "pygments_lexer": "ipython3",
   "version": "3.11.4"
  }
 },
 "nbformat": 4,
 "nbformat_minor": 5
}
